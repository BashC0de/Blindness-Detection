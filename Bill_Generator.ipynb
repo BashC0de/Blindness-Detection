{
  "nbformat": 4,
  "nbformat_minor": 0,
  "metadata": {
    "colab": {
      "provenance": [],
      "authorship_tag": "ABX9TyMvT9oq5fdL2tkySCuCilhK",
      "include_colab_link": true
    },
    "kernelspec": {
      "name": "python3",
      "display_name": "Python 3"
    },
    "language_info": {
      "name": "python"
    }
  },
  "cells": [
    {
      "cell_type": "markdown",
      "metadata": {
        "id": "view-in-github",
        "colab_type": "text"
      },
      "source": [
        "<a href=\"https://colab.research.google.com/github/BashC0de/Blindness-Detection/blob/main/Bill_Generator.ipynb\" target=\"_parent\"><img src=\"https://colab.research.google.com/assets/colab-badge.svg\" alt=\"Open In Colab\"/></a>"
      ]
    },
    {
      "cell_type": "code",
      "source": [
        "import json\n",
        "import csv\n",
        "import pandas as pd\n",
        "from datetime import datetime, timedelta\n",
        "from collections import defaultdict\n"
      ],
      "metadata": {
        "id": "ljoUA9OZz2n4"
      },
      "execution_count": null,
      "outputs": []
    },
    {
      "cell_type": "code",
      "execution_count": null,
      "metadata": {
        "id": "p-E_K6SlRRcd"
      },
      "outputs": [],
      "source": [
        "def parse_date(date_str):# This Converts a date string in YYYY-MM-DD format into a Python datetime\n",
        "    return datetime.strptime(date_str, \"%Y-%m-%d\")\n",
        "\n",
        "def get_month_range(target_month):#This takes a target month (e.g., \"2025-05\") which i have taken from csv file and returns the first and last date of that month.\n",
        "    start = datetime.strptime(target_month, \"%Y-%m\")\n",
        "    end = (start.replace(day=28) + timedelta(days=4)).replace(day=1) - timedelta(days=1)\n",
        "    return start, end\n",
        "\n",
        "def days_overlap(start1, end1, start2, end2):#Calculates how many days overlap between two date ranges. Essential for prorating item usage.\n",
        "    latest_start = max(start1, start2)\n",
        "    earliest_end = min(end1, end2)\n",
        "    delta = (earliest_end - latest_start).days + 1\n",
        "    return max(0, delta), latest_start, earliest_end\n",
        "\n",
        "def normalize_value(val):#This helps in consistent numeric formatting by stripping and converting strings to float\n",
        "    if isinstance(val, str):\n",
        "        return float(val.strip())\n",
        "    return float(val)\n",
        "\n",
        "def generate_monthly_bill(item_list: list, target_month: str, target_item_code: str) -> dict:#  Main function to generate the prorated monthly bill for all items.\n",
        "    month_start, month_end = get_month_range(target_month)\n",
        "    days_in_month = (month_end - month_start).days + 1\n",
        "\n",
        "    grouped_items = defaultdict(lambda: {\"qty\": 0, \"amount\": 0.0, \"billing_period\": None})\n",
        "\n",
        "    for item in item_list:\n",
        "        item_start = parse_date(item[\"start_date\"])\n",
        "        item_stop = parse_date(item[\"stop_date\"])\n",
        "\n",
        "        # These are checking below if the item is active in the target month\n",
        "        overlap_days, overlap_start, overlap_end = days_overlap(item_start, item_stop, month_start, month_end)\n",
        "        if overlap_days == 0:\n",
        "            continue\n",
        "\n",
        "        item_code = item[\"item_code\"]\n",
        "        rate = normalize_value(item[\"rate\"])\n",
        "        qty = int(item[\"qty\"])\n",
        "        daily_rate = rate * qty / days_in_month\n",
        "        prorated_amount = round(daily_rate * overlap_days, 2)\n",
        "\n",
        "        # These keys includes all biling range\n",
        "        billing_period = f\"{overlap_start.strftime('%Y-%m-%d')} to {overlap_end.strftime('%Y-%m-%d')}\"\n",
        "        group_key = (item_code, rate, billing_period)\n",
        "\n",
        "        grouped_items[group_key][\"qty\"] += qty\n",
        "        grouped_items[group_key][\"amount\"] += prorated_amount\n",
        "        grouped_items[group_key][\"billing_period\"] = billing_period\n",
        "\n",
        "    # Preparing  final output\n",
        "    line_items = []\n",
        "    total_revenue = 0.0\n",
        "\n",
        "    for (item_code, rate, _), values in grouped_items.items():\n",
        "        amount = round(values[\"amount\"], 2)\n",
        "        total_revenue += amount\n",
        "        line_items.append({\n",
        "            \"item_code\": item_code,\n",
        "            \"rate\": rate,\n",
        "            \"qty\": values[\"qty\"],\n",
        "            \"amount\": amount,\n",
        "            \"billing_period\": values[\"billing_period\"]\n",
        "        })\n",
        "\n",
        "    return {\n",
        "        \"line_items\": line_items,\n",
        "        \"total_revenue\": round(total_revenue, 2)\n",
        "    }\n",
        "def read_items_from_csv(file_path):\n",
        "    items = []\n",
        "    with open(file_path, mode=\"r\", newline='', encoding=\"utf-8\", errors=\"replace\") as file:\n",
        "        reader = csv.DictReader(file)\n",
        "        for row in reader:\n",
        "            items.append({\n",
        "                \"item_code\": row[\"item_code\"],\n",
        "                \"rate\": row[\"rate\"],\n",
        "                \"qty\": int(row[\"qty\"]),\n",
        "                \"start_date\": row[\"start_date\"],\n",
        "                \"stop_date\": row[\"stop_date\"]\n",
        "            })\n",
        "    return items\n"
      ]
    },
    {
      "cell_type": "code",
      "source": [
        "if __name__ == \"__main__\":\n",
        "    file_path = \"Bill.csv\"#this bill is the sample bill that i have created\n",
        "    start_date_str = \"2025-05-01\"\n",
        "    end_date_str = \"2025-05-30\"\n",
        "    target_month = \"2025-04\"\n",
        "    target_item_code=\"B001\" #target code from the csv file to get the bill\n",
        "\n",
        "    # Parsing  dates from string to datetime\n",
        "\n",
        "    start_date = datetime.strptime(start_date_str, \"%Y-%m-%d\")\n",
        "    end_date = datetime.strptime(end_date_str, \"%Y-%m-%d\")\n",
        "    item_list = read_items_from_csv(file_path)\n",
        "    bill = generate_monthly_bill(item_list, target_month, target_item_code)\n",
        "    print(json.dumps(bill, indent=2))#this will give the proper structure of bill"
      ],
      "metadata": {
        "colab": {
          "base_uri": "https://localhost:8080/"
        },
        "id": "TiJyc6Xrzx4m",
        "outputId": "06524bba-2d98-4a32-e7a4-1c4b64f3fde2"
      },
      "execution_count": null,
      "outputs": [
        {
          "output_type": "stream",
          "name": "stdout",
          "text": [
            "{\n",
            "  \"line_items\": [\n",
            "    {\n",
            "      \"item_code\": \"C003\",\n",
            "      \"rate\": 10.75,\n",
            "      \"qty\": 2,\n",
            "      \"amount\": 7.88,\n",
            "      \"billing_period\": \"2025-04-20 to 2025-04-30\"\n",
            "    },\n",
            "    {\n",
            "      \"item_code\": \"G007\",\n",
            "      \"rate\": 18.75,\n",
            "      \"qty\": 4,\n",
            "      \"amount\": 15.0,\n",
            "      \"billing_period\": \"2025-04-25 to 2025-04-30\"\n",
            "    }\n",
            "  ],\n",
            "  \"total_revenue\": 22.88\n",
            "}\n"
          ]
        }
      ]
    }
  ]
}